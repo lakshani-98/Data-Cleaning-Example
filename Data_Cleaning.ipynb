{
  "cells": [
    {
      "cell_type": "markdown",
      "metadata": {
        "id": "rrCZjotqgtUn"
      },
      "source": [
        "We’ll use the 'Russian housing market' dataset from Kaggle.\n",
        "First, let’s take a look at the data in Python."
      ]
    },
    {
      "cell_type": "code",
      "execution_count": null,
      "metadata": {
        "colab": {
          "base_uri": "https://localhost:8080/",
          "height": 1000
        },
        "id": "1dvmzGLNgtUr",
        "outputId": "0f1e87e3-3620-4a24-fdfe-f7103cb1201e"
      },
      "outputs": [
        {
          "name": "stdout",
          "output_type": "stream",
          "text": [
            "<class 'pandas.core.frame.DataFrame'>\n",
            "RangeIndex: 28895 entries, 0 to 28894\n",
            "Data columns (total 292 columns):\n",
            " #    Column                                 Dtype  \n",
            "---   ------                                 -----  \n",
            " 0    id                                     int64  \n",
            " 1    timestamp                              object \n",
            " 2    full_sq                                int64  \n",
            " 3    life_sq                                float64\n",
            " 4    floor                                  float64\n",
            " 5    max_floor                              float64\n",
            " 6    material                               float64\n",
            " 7    build_year                             float64\n",
            " 8    num_room                               float64\n",
            " 9    kitch_sq                               float64\n",
            " 10   state                                  float64\n",
            " 11   product_type                           object \n",
            " 12   sub_area                               object \n",
            " 13   area_m                                 float64\n",
            " 14   raion_popul                            int64  \n",
            " 15   green_zone_part                        float64\n",
            " 16   indust_part                            float64\n",
            " 17   children_preschool                     int64  \n",
            " 18   preschool_quota                        float64\n",
            " 19   preschool_education_centers_raion      float64\n",
            " 20   children_school                        int64  \n",
            " 21   school_quota                           float64\n",
            " 22   school_education_centers_raion         int64  \n",
            " 23   school_education_centers_top_20_raion  int64  \n",
            " 24   hospital_beds_raion                    float64\n",
            " 25   healthcare_centers_raion               int64  \n",
            " 26   university_top_20_raion                int64  \n",
            " 27   sport_objects_raion                    int64  \n",
            " 28   additional_education_raion             int64  \n",
            " 29   culture_objects_top_25                 object \n",
            " 30   culture_objects_top_25_raion           int64  \n",
            " 31   shopping_centers_raion                 int64  \n",
            " 32   office_raion                           int64  \n",
            " 33   thermal_power_plant_raion              object \n",
            " 34   incineration_raion                     object \n",
            " 35   oil_chemistry_raion                    object \n",
            " 36   radiation_raion                        object \n",
            " 37   railroad_terminal_raion                object \n",
            " 38   big_market_raion                       object \n",
            " 39   nuclear_reactor_raion                  object \n",
            " 40   detention_facility_raion               object \n",
            " 41   full_all                               int64  \n",
            " 42   male_f                                 int64  \n",
            " 43   female_f                               int64  \n",
            " 44   young_all                              int64  \n",
            " 45   young_male                             int64  \n",
            " 46   young_female                           int64  \n",
            " 47   work_all                               int64  \n",
            " 48   work_male                              int64  \n",
            " 49   work_female                            int64  \n",
            " 50   ekder_all                              int64  \n",
            " 51   ekder_male                             int64  \n",
            " 52   ekder_female                           int64  \n",
            " 53   0_6_all                                int64  \n",
            " 54   0_6_male                               int64  \n",
            " 55   0_6_female                             int64  \n",
            " 56   7_14_all                               int64  \n",
            " 57   7_14_male                              int64  \n",
            " 58   7_14_female                            int64  \n",
            " 59   0_17_all                               int64  \n",
            " 60   0_17_male                              int64  \n",
            " 61   0_17_female                            int64  \n",
            " 62   16_29_all                              int64  \n",
            " 63   16_29_male                             int64  \n",
            " 64   16_29_female                           int64  \n",
            " 65   0_13_all                               int64  \n",
            " 66   0_13_male                              int64  \n",
            " 67   0_13_female                            int64  \n",
            " 68   raion_build_count_with_material_info   float64\n",
            " 69   build_count_block                      float64\n",
            " 70   build_count_wood                       float64\n",
            " 71   build_count_frame                      float64\n",
            " 72   build_count_brick                      float64\n",
            " 73   build_count_monolith                   float64\n",
            " 74   build_count_panel                      float64\n",
            " 75   build_count_foam                       float64\n",
            " 76   build_count_slag                       float64\n",
            " 77   build_count_mix                        float64\n",
            " 78   raion_build_count_with_builddate_info  float64\n",
            " 79   build_count_before_1920                float64\n",
            " 80   build_count_1921-1945                  float64\n",
            " 81   build_count_1946-1970                  float64\n",
            " 82   build_count_1971-1995                  float64\n",
            " 83   build_count_after_1995                 float64\n",
            " 84   ID_metro                               int64  \n",
            " 85   metro_min_avto                         float64\n",
            " 86   metro_km_avto                          float64\n",
            " 87   metro_min_walk                         float64\n",
            " 88   metro_km_walk                          float64\n",
            " 89   kindergarten_km                        float64\n",
            " 90   school_km                              float64\n",
            " 91   park_km                                float64\n",
            " 92   green_zone_km                          float64\n",
            " 93   industrial_km                          float64\n",
            " 94   water_treatment_km                     float64\n",
            " 95   cemetery_km                            float64\n",
            " 96   incineration_km                        float64\n",
            " 97   railroad_station_walk_km               float64\n",
            " 98   railroad_station_walk_min              float64\n",
            " 99   ID_railroad_station_walk               float64\n",
            " 100  railroad_station_avto_km               float64\n",
            " 101  railroad_station_avto_min              float64\n",
            " 102  ID_railroad_station_avto               int64  \n",
            " 103  public_transport_station_km            float64\n",
            " 104  public_transport_station_min_walk      float64\n",
            " 105  water_km                               float64\n",
            " 106  water_1line                            object \n",
            " 107  mkad_km                                float64\n",
            " 108  ttk_km                                 float64\n",
            " 109  sadovoe_km                             float64\n",
            " 110  bulvar_ring_km                         float64\n",
            " 111  kremlin_km                             float64\n",
            " 112  big_road1_km                           float64\n",
            " 113  ID_big_road1                           int64  \n",
            " 114  big_road1_1line                        object \n",
            " 115  big_road2_km                           float64\n",
            " 116  ID_big_road2                           int64  \n",
            " 117  railroad_km                            float64\n",
            " 118  railroad_1line                         object \n",
            " 119  zd_vokzaly_avto_km                     float64\n",
            " 120  ID_railroad_terminal                   int64  \n",
            " 121  bus_terminal_avto_km                   float64\n",
            " 122  ID_bus_terminal                        int64  \n",
            " 123  oil_chemistry_km                       float64\n",
            " 124  nuclear_reactor_km                     float64\n",
            " 125  radiation_km                           float64\n",
            " 126  power_transmission_line_km             float64\n",
            " 127  thermal_power_plant_km                 float64\n",
            " 128  ts_km                                  float64\n",
            " 129  big_market_km                          float64\n",
            " 130  market_shop_km                         float64\n",
            " 131  fitness_km                             float64\n",
            " 132  swim_pool_km                           float64\n",
            " 133  ice_rink_km                            float64\n",
            " 134  stadium_km                             float64\n",
            " 135  basketball_km                          float64\n",
            " 136  hospice_morgue_km                      float64\n",
            " 137  detention_facility_km                  float64\n",
            " 138  public_healthcare_km                   float64\n",
            " 139  university_km                          float64\n",
            " 140  workplaces_km                          float64\n",
            " 141  shopping_centers_km                    float64\n",
            " 142  office_km                              float64\n",
            " 143  additional_education_km                float64\n",
            " 144  preschool_km                           float64\n",
            " 145  big_church_km                          float64\n",
            " 146  church_synagogue_km                    float64\n",
            " 147  mosque_km                              float64\n",
            " 148  theater_km                             float64\n",
            " 149  museum_km                              float64\n",
            " 150  exhibition_km                          float64\n",
            " 151  catering_km                            float64\n",
            " 152  ecology                                object \n",
            " 153  green_part_500                         float64\n",
            " 154  prom_part_500                          float64\n",
            " 155  office_count_500                       int64  \n",
            " 156  office_sqm_500                         int64  \n",
            " 157  trc_count_500                          int64  \n",
            " 158  trc_sqm_500                            int64  \n",
            " 159  cafe_count_500                         int64  \n",
            " 160  cafe_sum_500_min_price_avg             float64\n",
            " 161  cafe_sum_500_max_price_avg             float64\n",
            " 162  cafe_avg_price_500                     float64\n",
            " 163  cafe_count_500_na_price                int64  \n",
            " 164  cafe_count_500_price_500               int64  \n",
            " 165  cafe_count_500_price_1000              int64  \n",
            " 166  cafe_count_500_price_1500              int64  \n",
            " 167  cafe_count_500_price_2500              int64  \n",
            " 168  cafe_count_500_price_4000              int64  \n",
            " 169  cafe_count_500_price_high              int64  \n",
            " 170  big_church_count_500                   int64  \n",
            " 171  church_count_500                       int64  \n",
            " 172  mosque_count_500                       int64  \n",
            " 173  leisure_count_500                      int64  \n",
            " 174  sport_count_500                        int64  \n",
            " 175  market_count_500                       int64  \n",
            " 176  green_part_1000                        float64\n",
            " 177  prom_part_1000                         float64\n",
            " 178  office_count_1000                      int64  \n",
            " 179  office_sqm_1000                        int64  \n",
            " 180  trc_count_1000                         int64  \n",
            " 181  trc_sqm_1000                           int64  \n",
            " 182  cafe_count_1000                        int64  \n",
            " 183  cafe_sum_1000_min_price_avg            float64\n",
            " 184  cafe_sum_1000_max_price_avg            float64\n",
            " 185  cafe_avg_price_1000                    float64\n",
            " 186  cafe_count_1000_na_price               int64  \n",
            " 187  cafe_count_1000_price_500              int64  \n",
            " 188  cafe_count_1000_price_1000             int64  \n",
            " 189  cafe_count_1000_price_1500             int64  \n",
            " 190  cafe_count_1000_price_2500             int64  \n",
            " 191  cafe_count_1000_price_4000             int64  \n",
            " 192  cafe_count_1000_price_high             int64  \n",
            " 193  big_church_count_1000                  int64  \n",
            " 194  church_count_1000                      int64  \n",
            " 195  mosque_count_1000                      int64  \n",
            " 196  leisure_count_1000                     int64  \n",
            " 197  sport_count_1000                       int64  \n",
            " 198  market_count_1000                      int64  \n",
            " 199  green_part_1500                        float64\n",
            " 200  prom_part_1500                         float64\n",
            " 201  office_count_1500                      int64  \n",
            " 202  office_sqm_1500                        int64  \n",
            " 203  trc_count_1500                         int64  \n",
            " 204  trc_sqm_1500                           int64  \n",
            " 205  cafe_count_1500                        int64  \n",
            " 206  cafe_sum_1500_min_price_avg            float64\n",
            " 207  cafe_sum_1500_max_price_avg            float64\n",
            " 208  cafe_avg_price_1500                    float64\n",
            " 209  cafe_count_1500_na_price               int64  \n",
            " 210  cafe_count_1500_price_500              int64  \n",
            " 211  cafe_count_1500_price_1000             int64  \n",
            " 212  cafe_count_1500_price_1500             int64  \n",
            " 213  cafe_count_1500_price_2500             int64  \n",
            " 214  cafe_count_1500_price_4000             int64  \n",
            " 215  cafe_count_1500_price_high             int64  \n",
            " 216  big_church_count_1500                  int64  \n",
            " 217  church_count_1500                      int64  \n",
            " 218  mosque_count_1500                      int64  \n",
            " 219  leisure_count_1500                     int64  \n",
            " 220  sport_count_1500                       int64  \n",
            " 221  market_count_1500                      int64  \n",
            " 222  green_part_2000                        float64\n",
            " 223  prom_part_2000                         float64\n",
            " 224  office_count_2000                      int64  \n",
            " 225  office_sqm_2000                        int64  \n",
            " 226  trc_count_2000                         int64  \n",
            " 227  trc_sqm_2000                           int64  \n",
            " 228  cafe_count_2000                        int64  \n",
            " 229  cafe_sum_2000_min_price_avg            float64\n",
            " 230  cafe_sum_2000_max_price_avg            float64\n",
            " 231  cafe_avg_price_2000                    float64\n",
            " 232  cafe_count_2000_na_price               int64  \n",
            " 233  cafe_count_2000_price_500              int64  \n",
            " 234  cafe_count_2000_price_1000             int64  \n",
            " 235  cafe_count_2000_price_1500             int64  \n",
            " 236  cafe_count_2000_price_2500             int64  \n",
            " 237  cafe_count_2000_price_4000             int64  \n",
            " 238  cafe_count_2000_price_high             int64  \n",
            " 239  big_church_count_2000                  int64  \n",
            " 240  church_count_2000                      int64  \n",
            " 241  mosque_count_2000                      int64  \n",
            " 242  leisure_count_2000                     int64  \n",
            " 243  sport_count_2000                       int64  \n",
            " 244  market_count_2000                      int64  \n",
            " 245  green_part_3000                        float64\n",
            " 246  prom_part_3000                         float64\n",
            " 247  office_count_3000                      int64  \n",
            " 248  office_sqm_3000                        int64  \n",
            " 249  trc_count_3000                         int64  \n",
            " 250  trc_sqm_3000                           int64  \n",
            " 251  cafe_count_3000                        int64  \n",
            " 252  cafe_sum_3000_min_price_avg            float64\n",
            " 253  cafe_sum_3000_max_price_avg            float64\n",
            " 254  cafe_avg_price_3000                    float64\n",
            " 255  cafe_count_3000_na_price               int64  \n",
            " 256  cafe_count_3000_price_500              int64  \n",
            " 257  cafe_count_3000_price_1000             int64  \n",
            " 258  cafe_count_3000_price_1500             int64  \n",
            " 259  cafe_count_3000_price_2500             int64  \n",
            " 260  cafe_count_3000_price_4000             int64  \n",
            " 261  cafe_count_3000_price_high             int64  \n",
            " 262  big_church_count_3000                  int64  \n",
            " 263  church_count_3000                      int64  \n",
            " 264  mosque_count_3000                      int64  \n",
            " 265  leisure_count_3000                     int64  \n",
            " 266  sport_count_3000                       int64  \n",
            " 267  market_count_3000                      int64  \n",
            " 268  green_part_5000                        float64\n",
            " 269  prom_part_5000                         float64\n",
            " 270  office_count_5000                      int64  \n",
            " 271  office_sqm_5000                        int64  \n",
            " 272  trc_count_5000                         int64  \n",
            " 273  trc_sqm_5000                           int64  \n",
            " 274  cafe_count_5000                        int64  \n",
            " 275  cafe_sum_5000_min_price_avg            float64\n",
            " 276  cafe_sum_5000_max_price_avg            float64\n",
            " 277  cafe_avg_price_5000                    float64\n",
            " 278  cafe_count_5000_na_price               int64  \n",
            " 279  cafe_count_5000_price_500              int64  \n",
            " 280  cafe_count_5000_price_1000             int64  \n",
            " 281  cafe_count_5000_price_1500             int64  \n",
            " 282  cafe_count_5000_price_2500             int64  \n",
            " 283  cafe_count_5000_price_4000             int64  \n",
            " 284  cafe_count_5000_price_high             int64  \n",
            " 285  big_church_count_5000                  int64  \n",
            " 286  church_count_5000                      int64  \n",
            " 287  mosque_count_5000                      int64  \n",
            " 288  leisure_count_5000                     int64  \n",
            " 289  sport_count_5000                       int64  \n",
            " 290  market_count_5000                      int64  \n",
            " 291  price_doc                              int64  \n",
            "dtypes: float64(120), int64(156), object(16)\n",
            "memory usage: 64.4+ MB\n"
          ]
        },
        {
          "data": {
            "application/vnd.google.colaboratory.intrinsic+json": {
              "type": "dataframe",
              "variable_name": "df"
            },
            "text/html": [
              "\n",
              "  <div id=\"df-6bc69469-0326-46dc-9085-e53ab6b99a1d\" class=\"colab-df-container\">\n",
              "    <div>\n",
              "<style scoped>\n",
              "    .dataframe tbody tr th:only-of-type {\n",
              "        vertical-align: middle;\n",
              "    }\n",
              "\n",
              "    .dataframe tbody tr th {\n",
              "        vertical-align: top;\n",
              "    }\n",
              "\n",
              "    .dataframe thead th {\n",
              "        text-align: right;\n",
              "    }\n",
              "</style>\n",
              "<table border=\"1\" class=\"dataframe\">\n",
              "  <thead>\n",
              "    <tr style=\"text-align: right;\">\n",
              "      <th></th>\n",
              "      <th>id</th>\n",
              "      <th>timestamp</th>\n",
              "      <th>full_sq</th>\n",
              "      <th>life_sq</th>\n",
              "      <th>floor</th>\n",
              "      <th>max_floor</th>\n",
              "      <th>material</th>\n",
              "      <th>build_year</th>\n",
              "      <th>num_room</th>\n",
              "      <th>kitch_sq</th>\n",
              "      <th>...</th>\n",
              "      <th>cafe_count_5000_price_2500</th>\n",
              "      <th>cafe_count_5000_price_4000</th>\n",
              "      <th>cafe_count_5000_price_high</th>\n",
              "      <th>big_church_count_5000</th>\n",
              "      <th>church_count_5000</th>\n",
              "      <th>mosque_count_5000</th>\n",
              "      <th>leisure_count_5000</th>\n",
              "      <th>sport_count_5000</th>\n",
              "      <th>market_count_5000</th>\n",
              "      <th>price_doc</th>\n",
              "    </tr>\n",
              "  </thead>\n",
              "  <tbody>\n",
              "    <tr>\n",
              "      <th>0</th>\n",
              "      <td>1</td>\n",
              "      <td>2011-08-20</td>\n",
              "      <td>43</td>\n",
              "      <td>27.0</td>\n",
              "      <td>4.0</td>\n",
              "      <td>NaN</td>\n",
              "      <td>NaN</td>\n",
              "      <td>NaN</td>\n",
              "      <td>NaN</td>\n",
              "      <td>NaN</td>\n",
              "      <td>...</td>\n",
              "      <td>9</td>\n",
              "      <td>4</td>\n",
              "      <td>0</td>\n",
              "      <td>13</td>\n",
              "      <td>22</td>\n",
              "      <td>1</td>\n",
              "      <td>0</td>\n",
              "      <td>52</td>\n",
              "      <td>4</td>\n",
              "      <td>5850000</td>\n",
              "    </tr>\n",
              "    <tr>\n",
              "      <th>1</th>\n",
              "      <td>2</td>\n",
              "      <td>2011-08-23</td>\n",
              "      <td>34</td>\n",
              "      <td>19.0</td>\n",
              "      <td>3.0</td>\n",
              "      <td>NaN</td>\n",
              "      <td>NaN</td>\n",
              "      <td>NaN</td>\n",
              "      <td>NaN</td>\n",
              "      <td>NaN</td>\n",
              "      <td>...</td>\n",
              "      <td>15</td>\n",
              "      <td>3</td>\n",
              "      <td>0</td>\n",
              "      <td>15</td>\n",
              "      <td>29</td>\n",
              "      <td>1</td>\n",
              "      <td>10</td>\n",
              "      <td>66</td>\n",
              "      <td>14</td>\n",
              "      <td>6000000</td>\n",
              "    </tr>\n",
              "    <tr>\n",
              "      <th>2</th>\n",
              "      <td>3</td>\n",
              "      <td>2011-08-27</td>\n",
              "      <td>43</td>\n",
              "      <td>29.0</td>\n",
              "      <td>2.0</td>\n",
              "      <td>NaN</td>\n",
              "      <td>NaN</td>\n",
              "      <td>NaN</td>\n",
              "      <td>NaN</td>\n",
              "      <td>NaN</td>\n",
              "      <td>...</td>\n",
              "      <td>10</td>\n",
              "      <td>3</td>\n",
              "      <td>0</td>\n",
              "      <td>11</td>\n",
              "      <td>27</td>\n",
              "      <td>0</td>\n",
              "      <td>4</td>\n",
              "      <td>67</td>\n",
              "      <td>10</td>\n",
              "      <td>5700000</td>\n",
              "    </tr>\n",
              "    <tr>\n",
              "      <th>3</th>\n",
              "      <td>4</td>\n",
              "      <td>2011-09-01</td>\n",
              "      <td>89</td>\n",
              "      <td>50.0</td>\n",
              "      <td>9.0</td>\n",
              "      <td>NaN</td>\n",
              "      <td>NaN</td>\n",
              "      <td>NaN</td>\n",
              "      <td>NaN</td>\n",
              "      <td>NaN</td>\n",
              "      <td>...</td>\n",
              "      <td>11</td>\n",
              "      <td>2</td>\n",
              "      <td>1</td>\n",
              "      <td>4</td>\n",
              "      <td>4</td>\n",
              "      <td>0</td>\n",
              "      <td>0</td>\n",
              "      <td>26</td>\n",
              "      <td>3</td>\n",
              "      <td>13100000</td>\n",
              "    </tr>\n",
              "    <tr>\n",
              "      <th>4</th>\n",
              "      <td>5</td>\n",
              "      <td>2011-09-05</td>\n",
              "      <td>77</td>\n",
              "      <td>77.0</td>\n",
              "      <td>4.0</td>\n",
              "      <td>NaN</td>\n",
              "      <td>NaN</td>\n",
              "      <td>NaN</td>\n",
              "      <td>NaN</td>\n",
              "      <td>NaN</td>\n",
              "      <td>...</td>\n",
              "      <td>319</td>\n",
              "      <td>108</td>\n",
              "      <td>17</td>\n",
              "      <td>135</td>\n",
              "      <td>236</td>\n",
              "      <td>2</td>\n",
              "      <td>91</td>\n",
              "      <td>195</td>\n",
              "      <td>14</td>\n",
              "      <td>16331452</td>\n",
              "    </tr>\n",
              "  </tbody>\n",
              "</table>\n",
              "<p>5 rows × 292 columns</p>\n",
              "</div>\n",
              "    <div class=\"colab-df-buttons\">\n",
              "\n",
              "  <div class=\"colab-df-container\">\n",
              "    <button class=\"colab-df-convert\" onclick=\"convertToInteractive('df-6bc69469-0326-46dc-9085-e53ab6b99a1d')\"\n",
              "            title=\"Convert this dataframe to an interactive table.\"\n",
              "            style=\"display:none;\">\n",
              "\n",
              "  <svg xmlns=\"http://www.w3.org/2000/svg\" height=\"24px\" viewBox=\"0 -960 960 960\">\n",
              "    <path d=\"M120-120v-720h720v720H120Zm60-500h600v-160H180v160Zm220 220h160v-160H400v160Zm0 220h160v-160H400v160ZM180-400h160v-160H180v160Zm440 0h160v-160H620v160ZM180-180h160v-160H180v160Zm440 0h160v-160H620v160Z\"/>\n",
              "  </svg>\n",
              "    </button>\n",
              "\n",
              "  <style>\n",
              "    .colab-df-container {\n",
              "      display:flex;\n",
              "      gap: 12px;\n",
              "    }\n",
              "\n",
              "    .colab-df-convert {\n",
              "      background-color: #E8F0FE;\n",
              "      border: none;\n",
              "      border-radius: 50%;\n",
              "      cursor: pointer;\n",
              "      display: none;\n",
              "      fill: #1967D2;\n",
              "      height: 32px;\n",
              "      padding: 0 0 0 0;\n",
              "      width: 32px;\n",
              "    }\n",
              "\n",
              "    .colab-df-convert:hover {\n",
              "      background-color: #E2EBFA;\n",
              "      box-shadow: 0px 1px 2px rgba(60, 64, 67, 0.3), 0px 1px 3px 1px rgba(60, 64, 67, 0.15);\n",
              "      fill: #174EA6;\n",
              "    }\n",
              "\n",
              "    .colab-df-buttons div {\n",
              "      margin-bottom: 4px;\n",
              "    }\n",
              "\n",
              "    [theme=dark] .colab-df-convert {\n",
              "      background-color: #3B4455;\n",
              "      fill: #D2E3FC;\n",
              "    }\n",
              "\n",
              "    [theme=dark] .colab-df-convert:hover {\n",
              "      background-color: #434B5C;\n",
              "      box-shadow: 0px 1px 3px 1px rgba(0, 0, 0, 0.15);\n",
              "      filter: drop-shadow(0px 1px 2px rgba(0, 0, 0, 0.3));\n",
              "      fill: #FFFFFF;\n",
              "    }\n",
              "  </style>\n",
              "\n",
              "    <script>\n",
              "      const buttonEl =\n",
              "        document.querySelector('#df-6bc69469-0326-46dc-9085-e53ab6b99a1d button.colab-df-convert');\n",
              "      buttonEl.style.display =\n",
              "        google.colab.kernel.accessAllowed ? 'block' : 'none';\n",
              "\n",
              "      async function convertToInteractive(key) {\n",
              "        const element = document.querySelector('#df-6bc69469-0326-46dc-9085-e53ab6b99a1d');\n",
              "        const dataTable =\n",
              "          await google.colab.kernel.invokeFunction('convertToInteractive',\n",
              "                                                    [key], {});\n",
              "        if (!dataTable) return;\n",
              "\n",
              "        const docLinkHtml = 'Like what you see? Visit the ' +\n",
              "          '<a target=\"_blank\" href=https://colab.research.google.com/notebooks/data_table.ipynb>data table notebook</a>'\n",
              "          + ' to learn more about interactive tables.';\n",
              "        element.innerHTML = '';\n",
              "        dataTable['output_type'] = 'display_data';\n",
              "        await google.colab.output.renderOutput(dataTable, element);\n",
              "        const docLink = document.createElement('div');\n",
              "        docLink.innerHTML = docLinkHtml;\n",
              "        element.appendChild(docLink);\n",
              "      }\n",
              "    </script>\n",
              "  </div>\n",
              "\n",
              "\n",
              "<div id=\"df-ea0a0539-af90-45cf-b967-484dfb5fae9d\">\n",
              "  <button class=\"colab-df-quickchart\" onclick=\"quickchart('df-ea0a0539-af90-45cf-b967-484dfb5fae9d')\"\n",
              "            title=\"Suggest charts\"\n",
              "            style=\"display:none;\">\n",
              "\n",
              "<svg xmlns=\"http://www.w3.org/2000/svg\" height=\"24px\"viewBox=\"0 0 24 24\"\n",
              "     width=\"24px\">\n",
              "    <g>\n",
              "        <path d=\"M19 3H5c-1.1 0-2 .9-2 2v14c0 1.1.9 2 2 2h14c1.1 0 2-.9 2-2V5c0-1.1-.9-2-2-2zM9 17H7v-7h2v7zm4 0h-2V7h2v10zm4 0h-2v-4h2v4z\"/>\n",
              "    </g>\n",
              "</svg>\n",
              "  </button>\n",
              "\n",
              "<style>\n",
              "  .colab-df-quickchart {\n",
              "      --bg-color: #E8F0FE;\n",
              "      --fill-color: #1967D2;\n",
              "      --hover-bg-color: #E2EBFA;\n",
              "      --hover-fill-color: #174EA6;\n",
              "      --disabled-fill-color: #AAA;\n",
              "      --disabled-bg-color: #DDD;\n",
              "  }\n",
              "\n",
              "  [theme=dark] .colab-df-quickchart {\n",
              "      --bg-color: #3B4455;\n",
              "      --fill-color: #D2E3FC;\n",
              "      --hover-bg-color: #434B5C;\n",
              "      --hover-fill-color: #FFFFFF;\n",
              "      --disabled-bg-color: #3B4455;\n",
              "      --disabled-fill-color: #666;\n",
              "  }\n",
              "\n",
              "  .colab-df-quickchart {\n",
              "    background-color: var(--bg-color);\n",
              "    border: none;\n",
              "    border-radius: 50%;\n",
              "    cursor: pointer;\n",
              "    display: none;\n",
              "    fill: var(--fill-color);\n",
              "    height: 32px;\n",
              "    padding: 0;\n",
              "    width: 32px;\n",
              "  }\n",
              "\n",
              "  .colab-df-quickchart:hover {\n",
              "    background-color: var(--hover-bg-color);\n",
              "    box-shadow: 0 1px 2px rgba(60, 64, 67, 0.3), 0 1px 3px 1px rgba(60, 64, 67, 0.15);\n",
              "    fill: var(--button-hover-fill-color);\n",
              "  }\n",
              "\n",
              "  .colab-df-quickchart-complete:disabled,\n",
              "  .colab-df-quickchart-complete:disabled:hover {\n",
              "    background-color: var(--disabled-bg-color);\n",
              "    fill: var(--disabled-fill-color);\n",
              "    box-shadow: none;\n",
              "  }\n",
              "\n",
              "  .colab-df-spinner {\n",
              "    border: 2px solid var(--fill-color);\n",
              "    border-color: transparent;\n",
              "    border-bottom-color: var(--fill-color);\n",
              "    animation:\n",
              "      spin 1s steps(1) infinite;\n",
              "  }\n",
              "\n",
              "  @keyframes spin {\n",
              "    0% {\n",
              "      border-color: transparent;\n",
              "      border-bottom-color: var(--fill-color);\n",
              "      border-left-color: var(--fill-color);\n",
              "    }\n",
              "    20% {\n",
              "      border-color: transparent;\n",
              "      border-left-color: var(--fill-color);\n",
              "      border-top-color: var(--fill-color);\n",
              "    }\n",
              "    30% {\n",
              "      border-color: transparent;\n",
              "      border-left-color: var(--fill-color);\n",
              "      border-top-color: var(--fill-color);\n",
              "      border-right-color: var(--fill-color);\n",
              "    }\n",
              "    40% {\n",
              "      border-color: transparent;\n",
              "      border-right-color: var(--fill-color);\n",
              "      border-top-color: var(--fill-color);\n",
              "    }\n",
              "    60% {\n",
              "      border-color: transparent;\n",
              "      border-right-color: var(--fill-color);\n",
              "    }\n",
              "    80% {\n",
              "      border-color: transparent;\n",
              "      border-right-color: var(--fill-color);\n",
              "      border-bottom-color: var(--fill-color);\n",
              "    }\n",
              "    90% {\n",
              "      border-color: transparent;\n",
              "      border-bottom-color: var(--fill-color);\n",
              "    }\n",
              "  }\n",
              "</style>\n",
              "\n",
              "  <script>\n",
              "    async function quickchart(key) {\n",
              "      const quickchartButtonEl =\n",
              "        document.querySelector('#' + key + ' button');\n",
              "      quickchartButtonEl.disabled = true;  // To prevent multiple clicks.\n",
              "      quickchartButtonEl.classList.add('colab-df-spinner');\n",
              "      try {\n",
              "        const charts = await google.colab.kernel.invokeFunction(\n",
              "            'suggestCharts', [key], {});\n",
              "      } catch (error) {\n",
              "        console.error('Error during call to suggestCharts:', error);\n",
              "      }\n",
              "      quickchartButtonEl.classList.remove('colab-df-spinner');\n",
              "      quickchartButtonEl.classList.add('colab-df-quickchart-complete');\n",
              "    }\n",
              "    (() => {\n",
              "      let quickchartButtonEl =\n",
              "        document.querySelector('#df-ea0a0539-af90-45cf-b967-484dfb5fae9d button');\n",
              "      quickchartButtonEl.style.display =\n",
              "        google.colab.kernel.accessAllowed ? 'block' : 'none';\n",
              "    })();\n",
              "  </script>\n",
              "</div>\n",
              "\n",
              "    </div>\n",
              "  </div>\n"
            ],
            "text/plain": [
              "   id   timestamp  full_sq  life_sq  floor  max_floor  material  build_year  \\\n",
              "0   1  2011-08-20       43     27.0    4.0        NaN       NaN         NaN   \n",
              "1   2  2011-08-23       34     19.0    3.0        NaN       NaN         NaN   \n",
              "2   3  2011-08-27       43     29.0    2.0        NaN       NaN         NaN   \n",
              "3   4  2011-09-01       89     50.0    9.0        NaN       NaN         NaN   \n",
              "4   5  2011-09-05       77     77.0    4.0        NaN       NaN         NaN   \n",
              "\n",
              "   num_room  kitch_sq  ...  cafe_count_5000_price_2500  \\\n",
              "0       NaN       NaN  ...                           9   \n",
              "1       NaN       NaN  ...                          15   \n",
              "2       NaN       NaN  ...                          10   \n",
              "3       NaN       NaN  ...                          11   \n",
              "4       NaN       NaN  ...                         319   \n",
              "\n",
              "  cafe_count_5000_price_4000 cafe_count_5000_price_high  \\\n",
              "0                          4                          0   \n",
              "1                          3                          0   \n",
              "2                          3                          0   \n",
              "3                          2                          1   \n",
              "4                        108                         17   \n",
              "\n",
              "   big_church_count_5000  church_count_5000  mosque_count_5000  \\\n",
              "0                     13                 22                  1   \n",
              "1                     15                 29                  1   \n",
              "2                     11                 27                  0   \n",
              "3                      4                  4                  0   \n",
              "4                    135                236                  2   \n",
              "\n",
              "   leisure_count_5000  sport_count_5000  market_count_5000  price_doc  \n",
              "0                   0                52                  4    5850000  \n",
              "1                  10                66                 14    6000000  \n",
              "2                   4                67                 10    5700000  \n",
              "3                   0                26                  3   13100000  \n",
              "4                  91               195                 14   16331452  \n",
              "\n",
              "[5 rows x 292 columns]"
            ]
          },
          "execution_count": 20,
          "metadata": {},
          "output_type": "execute_result"
        }
      ],
      "source": [
        "import pandas as pd\n",
        "df = pd.read_csv('/content/sample_data/housing market data.csv')\n",
        "\n",
        "df.info(verbose=True)\n",
        "\n",
        "df.head()"
      ]
    },
    {
      "cell_type": "markdown",
      "metadata": {
        "id": "P-tdvauOgtUt"
      },
      "source": [
        "We can also identify the numeric and non-numeric columns. These are necessary since we often treat them using different methods."
      ]
    },
    {
      "cell_type": "code",
      "execution_count": null,
      "metadata": {
        "colab": {
          "base_uri": "https://localhost:8080/"
        },
        "id": "1VWkwZzZgtUt",
        "outputId": "1708e717-cf45-4caa-bc05-f94d33ad2d46"
      },
      "outputs": [
        {
          "name": "stdout",
          "output_type": "stream",
          "text": [
            "Index(['id', 'full_sq', 'life_sq', 'floor', 'max_floor', 'material',\n",
            "       'build_year', 'num_room', 'kitch_sq', 'state',\n",
            "       ...\n",
            "       'cafe_count_5000_price_2500', 'cafe_count_5000_price_4000',\n",
            "       'cafe_count_5000_price_high', 'big_church_count_5000',\n",
            "       'church_count_5000', 'mosque_count_5000', 'leisure_count_5000',\n",
            "       'sport_count_5000', 'market_count_5000', 'price_doc'],\n",
            "      dtype='object', length=276)\n",
            "Index(['timestamp', 'product_type', 'sub_area', 'culture_objects_top_25',\n",
            "       'thermal_power_plant_raion', 'incineration_raion',\n",
            "       'oil_chemistry_raion', 'radiation_raion', 'railroad_terminal_raion',\n",
            "       'big_market_raion', 'nuclear_reactor_raion', 'detention_facility_raion',\n",
            "       'water_1line', 'big_road1_1line', 'railroad_1line', 'ecology'],\n",
            "      dtype='object')\n"
          ]
        }
      ],
      "source": [
        "numeric_cols = df.select_dtypes(include=['number']).columns\n",
        "print(numeric_cols)\n",
        "\n",
        "non_numeric_cols = df.select_dtypes(exclude=['number']).columns\n",
        "print(non_numeric_cols)"
      ]
    },
    {
      "cell_type": "markdown",
      "metadata": {
        "id": "OfD_I9EWgtUu"
      },
      "source": [
        "## Missing data\n",
        "Missing data or missing values are when there’s no data value stored for a column in a row. It is very common among real-world datasets. If not handled properly, they would significantly impact the results of data analysis. Many machine learning models can’t tolerate any missing values. So, we must learn how to handle missing data."
      ]
    },
    {
      "cell_type": "markdown",
      "metadata": {
        "id": "JiegQw1egtUu"
      },
      "source": [
        "#### Method #1: missing data (by columns) count & percentage\n",
        "This is the most basic method to detect missing data among columns.\n",
        "We print out the summary of all the non-numeric columns below. By looking at the Non-Null Count, we can spot the number of missing data by columns. For our example, all non-null counts are 30,471, the same as the total number of rows, so there are no missing data among the non-numeric columns!"
      ]
    },
    {
      "cell_type": "code",
      "execution_count": null,
      "metadata": {
        "colab": {
          "base_uri": "https://localhost:8080/"
        },
        "id": "Sf-cs96NgtUu",
        "outputId": "76e2dfdc-39aa-44eb-eb3c-fee0449f78b5"
      },
      "outputs": [
        {
          "name": "stdout",
          "output_type": "stream",
          "text": [
            "<class 'pandas.core.frame.DataFrame'>\n",
            "RangeIndex: 28895 entries, 0 to 28894\n",
            "Data columns (total 16 columns):\n",
            " #   Column                     Non-Null Count  Dtype \n",
            "---  ------                     --------------  ----- \n",
            " 0   timestamp                  28895 non-null  object\n",
            " 1   product_type               28895 non-null  object\n",
            " 2   sub_area                   28895 non-null  object\n",
            " 3   culture_objects_top_25     28895 non-null  object\n",
            " 4   thermal_power_plant_raion  28895 non-null  object\n",
            " 5   incineration_raion         28895 non-null  object\n",
            " 6   oil_chemistry_raion        28895 non-null  object\n",
            " 7   radiation_raion            28895 non-null  object\n",
            " 8   railroad_terminal_raion    28895 non-null  object\n",
            " 9   big_market_raion           28895 non-null  object\n",
            " 10  nuclear_reactor_raion      28895 non-null  object\n",
            " 11  detention_facility_raion   28895 non-null  object\n",
            " 12  water_1line                28895 non-null  object\n",
            " 13  big_road1_1line            28895 non-null  object\n",
            " 14  railroad_1line             28895 non-null  object\n",
            " 15  ecology                    28895 non-null  object\n",
            "dtypes: object(16)\n",
            "memory usage: 3.5+ MB\n"
          ]
        }
      ],
      "source": [
        "df[non_numeric_cols].info()"
      ]
    },
    {
      "cell_type": "markdown",
      "metadata": {
        "id": "-BU6yoA3gtUv"
      },
      "source": [
        "We can print out the first 10 columns to look at."
      ]
    },
    {
      "cell_type": "code",
      "execution_count": null,
      "metadata": {
        "colab": {
          "base_uri": "https://localhost:8080/",
          "height": 397
        },
        "id": "cIXLhMYQgtUv",
        "outputId": "4350ed18-8afe-4ad9-b75c-325c5f382930"
      },
      "outputs": [
        {
          "data": {
            "text/html": [
              "<div>\n",
              "<style scoped>\n",
              "    .dataframe tbody tr th:only-of-type {\n",
              "        vertical-align: middle;\n",
              "    }\n",
              "\n",
              "    .dataframe tbody tr th {\n",
              "        vertical-align: top;\n",
              "    }\n",
              "\n",
              "    .dataframe thead th {\n",
              "        text-align: right;\n",
              "    }\n",
              "</style>\n",
              "<table border=\"1\" class=\"dataframe\">\n",
              "  <thead>\n",
              "    <tr style=\"text-align: right;\">\n",
              "      <th></th>\n",
              "      <th>0</th>\n",
              "    </tr>\n",
              "  </thead>\n",
              "  <tbody>\n",
              "    <tr>\n",
              "      <th>id</th>\n",
              "      <td>0</td>\n",
              "    </tr>\n",
              "    <tr>\n",
              "      <th>timestamp</th>\n",
              "      <td>0</td>\n",
              "    </tr>\n",
              "    <tr>\n",
              "      <th>full_sq</th>\n",
              "      <td>0</td>\n",
              "    </tr>\n",
              "    <tr>\n",
              "      <th>life_sq</th>\n",
              "      <td>5437</td>\n",
              "    </tr>\n",
              "    <tr>\n",
              "      <th>floor</th>\n",
              "      <td>166</td>\n",
              "    </tr>\n",
              "    <tr>\n",
              "      <th>max_floor</th>\n",
              "      <td>9560</td>\n",
              "    </tr>\n",
              "    <tr>\n",
              "      <th>material</th>\n",
              "      <td>9560</td>\n",
              "    </tr>\n",
              "    <tr>\n",
              "      <th>build_year</th>\n",
              "      <td>12706</td>\n",
              "    </tr>\n",
              "    <tr>\n",
              "      <th>num_room</th>\n",
              "      <td>9560</td>\n",
              "    </tr>\n",
              "    <tr>\n",
              "      <th>kitch_sq</th>\n",
              "      <td>9560</td>\n",
              "    </tr>\n",
              "  </tbody>\n",
              "</table>\n",
              "</div><br><label><b>dtype:</b> int64</label>"
            ],
            "text/plain": [
              "id                0\n",
              "timestamp         0\n",
              "full_sq           0\n",
              "life_sq        5437\n",
              "floor           166\n",
              "max_floor      9560\n",
              "material       9560\n",
              "build_year    12706\n",
              "num_room       9560\n",
              "kitch_sq       9560\n",
              "dtype: int64"
            ]
          },
          "execution_count": 6,
          "metadata": {},
          "output_type": "execute_result"
        }
      ],
      "source": [
        "num_missing = df.isna().sum()\n",
        "num_missing[:10]"
      ]
    },
    {
      "cell_type": "code",
      "execution_count": null,
      "metadata": {
        "colab": {
          "base_uri": "https://localhost:8080/",
          "height": 397
        },
        "id": "WmujdUcugtUw",
        "outputId": "cab8d325-cb11-4c77-f923-53d3c7d055bb"
      },
      "outputs": [
        {
          "data": {
            "text/html": [
              "<div>\n",
              "<style scoped>\n",
              "    .dataframe tbody tr th:only-of-type {\n",
              "        vertical-align: middle;\n",
              "    }\n",
              "\n",
              "    .dataframe tbody tr th {\n",
              "        vertical-align: top;\n",
              "    }\n",
              "\n",
              "    .dataframe thead th {\n",
              "        text-align: right;\n",
              "    }\n",
              "</style>\n",
              "<table border=\"1\" class=\"dataframe\">\n",
              "  <thead>\n",
              "    <tr style=\"text-align: right;\">\n",
              "      <th></th>\n",
              "      <th>0</th>\n",
              "    </tr>\n",
              "  </thead>\n",
              "  <tbody>\n",
              "    <tr>\n",
              "      <th>id</th>\n",
              "      <td>0.000000</td>\n",
              "    </tr>\n",
              "    <tr>\n",
              "      <th>timestamp</th>\n",
              "      <td>0.000000</td>\n",
              "    </tr>\n",
              "    <tr>\n",
              "      <th>full_sq</th>\n",
              "      <td>0.000000</td>\n",
              "    </tr>\n",
              "    <tr>\n",
              "      <th>life_sq</th>\n",
              "      <td>0.188164</td>\n",
              "    </tr>\n",
              "    <tr>\n",
              "      <th>floor</th>\n",
              "      <td>0.005745</td>\n",
              "    </tr>\n",
              "    <tr>\n",
              "      <th>max_floor</th>\n",
              "      <td>0.330853</td>\n",
              "    </tr>\n",
              "    <tr>\n",
              "      <th>material</th>\n",
              "      <td>0.330853</td>\n",
              "    </tr>\n",
              "    <tr>\n",
              "      <th>build_year</th>\n",
              "      <td>0.439730</td>\n",
              "    </tr>\n",
              "    <tr>\n",
              "      <th>num_room</th>\n",
              "      <td>0.330853</td>\n",
              "    </tr>\n",
              "    <tr>\n",
              "      <th>kitch_sq</th>\n",
              "      <td>0.330853</td>\n",
              "    </tr>\n",
              "  </tbody>\n",
              "</table>\n",
              "</div><br><label><b>dtype:</b> float64</label>"
            ],
            "text/plain": [
              "id            0.000000\n",
              "timestamp     0.000000\n",
              "full_sq       0.000000\n",
              "life_sq       0.188164\n",
              "floor         0.005745\n",
              "max_floor     0.330853\n",
              "material      0.330853\n",
              "build_year    0.439730\n",
              "num_room      0.330853\n",
              "kitch_sq      0.330853\n",
              "dtype: float64"
            ]
          },
          "execution_count": 7,
          "metadata": {},
          "output_type": "execute_result"
        }
      ],
      "source": [
        "pct_missing = df.isna().mean()\n",
        "pct_missing[:10]"
      ]
    },
    {
      "cell_type": "markdown",
      "metadata": {
        "id": "Lg_X9OzagtUw"
      },
      "source": [
        "#### Method #2: missing data (by columns) heatmap\n",
        "The seaborn library is a popular statistical data visualization library. Let’s first use it to plot the missing data heatmap."
      ]
    },
    {
      "cell_type": "code",
      "execution_count": null,
      "metadata": {
        "colab": {
          "base_uri": "https://localhost:8080/",
          "height": 816
        },
        "id": "NgSETryXgtUw",
        "outputId": "700c91e1-cd1f-4c45-f700-2ef06a14d287"
      },
      "outputs": [
        {
          "data": {
            "text/plain": [
              "<Axes: >"
            ]
          },
          "execution_count": 8,
          "metadata": {},
          "output_type": "execute_result"
        },
        {
          "data": {
            "image/png": "[encoded data removed]",
            "text/plain": [
              "<Figure size 1000x800 with 2 Axes>"
            ]
          },
          "metadata": {},
          "output_type": "display_data"
        }
      ],
      "source": [
        "import seaborn as sns\n",
        "import matplotlib.pyplot as plt\n",
        "\n",
        "plt.figure(figsize=(10,8))\n",
        "\n",
        "cols = df.columns[:30]\n",
        "colours = ['#000099', '#ffff00'] # specify colours: yellow - missing. blue - not missing\n",
        "sns.heatmap(df[cols].isna(), cmap=sns.color_palette(colours))"
      ]
    },
    {
      "cell_type": "markdown",
      "metadata": {
        "id": "ZOD0WqTagtUx"
      },
      "source": [
        "#### Method #3: missing data (by rows) histogram\n",
        "We’ve been looking at missing data by columns. But we can also summarize the missing data by rows. Missing data histogram is a technique for summarizing such information."
      ]
    },
    {
      "cell_type": "code",
      "execution_count": null,
      "metadata": {
        "colab": {
          "base_uri": "https://localhost:8080/",
          "height": 447
        },
        "id": "NEMN7dDMgtUx",
        "outputId": "ad51e407-fe3e-4a2d-cac1-5bb6090a29ef"
      },
      "outputs": [
        {
          "data": {
            "text/plain": [
              "<Axes: >"
            ]
          },
          "execution_count": 12,
          "metadata": {},
          "output_type": "execute_result"
        },
        {
          "data": {
            "image/png": "[encoded data removed]",
            "text/plain": [
              "<Figure size 640x480 with 1 Axes>"
            ]
          },
          "metadata": {},
          "output_type": "display_data"
        }
      ],
      "source": [
        "missing_by_row = df.isna().sum(axis='columns')\n",
        "missing_by_row.hist(bins=200)"
      ]
    },
    {
      "cell_type": "markdown",
      "metadata": {
        "id": "SvUDAIdPgtUx"
      },
      "source": [
        "### What to do?\n",
        "There are NO agreed-upon solutions to dealing with missing data. We have to study the dataset and its specific columns to determine how to clean their missing values."
      ]
    },
    {
      "cell_type": "markdown",
      "metadata": {
        "id": "aCxrM30jgtUx"
      },
      "source": [
        "#### Technique #1: drop columns / features\n",
        "We drop the entire column or feature with missing data, which will certainly cause a loss of information. So we should only perform this when we are sure that the missing data is not informative."
      ]
    },
    {
      "cell_type": "code",
      "execution_count": null,
      "metadata": {
        "colab": {
          "base_uri": "https://localhost:8080/"
        },
        "id": "L74WDXg1gtUx",
        "outputId": "62abe328-3260-4526-ca9c-6591fbd491bc"
      },
      "outputs": [
        {
          "data": {
            "text/plain": [
              "(28895, 282)"
            ]
          },
          "execution_count": 14,
          "metadata": {},
          "output_type": "execute_result"
        }
      ],
      "source": [
        "pct_missing[pct_missing > .3] # What are the columns with over 30% missing data then apply the copy method to make a copy to the new DataFrame df_less_missing_cols.\n",
        "df_less_missing_cols = df.loc[:, pct_missing <= .3].copy() # equivalent to df.drop(columns=pct_missing[pct_missing > .3].index)\n",
        "df_less_missing_cols.shape"
      ]
    },
    {
      "cell_type": "markdown",
      "metadata": {
        "id": "4OIwR5KcpULV"
      },
      "source": []
    },
    {
      "cell_type": "markdown",
      "metadata": {
        "id": "Pzi-cCoNgtUy"
      },
      "source": [
        "#### Technique #2: drop rows / observations\n",
        "We can drop the entire row with missing data like the first technique. Again, please be aware of the loss of information when removing rows."
      ]
    },
    {
      "cell_type": "code",
      "execution_count": null,
      "metadata": {
        "colab": {
          "base_uri": "https://localhost:8080/"
        },
        "id": "eNcHcVZWgtUy",
        "outputId": "c4298a43-3bfc-4d32-fa28-40c5fcdac6d7"
      },
      "outputs": [
        {
          "data": {
            "text/plain": [
              "(27830, 292)"
            ]
          },
          "execution_count": 15,
          "metadata": {},
          "output_type": "execute_result"
        }
      ],
      "source": [
        "df_less_missing_rows = df[missing_by_row < 35].copy()\n",
        "df_less_missing_rows.shape # equivalent to df.dropna(axis='index', thresh=292-35+1).shape"
      ]
    },
    {
      "cell_type": "markdown",
      "metadata": {
        "id": "X5_clINugtUy"
      },
      "source": [
        "#### Technique #3: impute the missing with constant values\n",
        "Instead of dropping data, we can also replace the missing. An easy method is to impute the missing with constant values. For example, we can impute the numeric columns with a value of -999 and impute the non-numeric columns with ‘_MISSING_’."
      ]
    },
    {
      "cell_type": "code",
      "execution_count": null,
      "metadata": {
        "id": "HCbYjiGmgtUz"
      },
      "outputs": [],
      "source": [
        "df_copy = df.copy()\n",
        "df_copy[numeric_cols] = df_copy[numeric_cols].fillna(-999)\n",
        "df_copy[non_numeric_cols] = df_copy[non_numeric_cols].fillna('_MISSING_')"
      ]
    },
    {
      "cell_type": "markdown",
      "metadata": {
        "id": "ERNNfqQrgtUz"
      },
      "source": [
        "#### Technique #4: impute the missing with statistics\n",
        "Besides constants, we can also impute the missing values with statistics.\n",
        "For example, we can impute the numeric columns with their respective medians."
      ]
    },
    {
      "cell_type": "code",
      "execution_count": null,
      "metadata": {
        "id": "J6vGr5zngtUz"
      },
      "outputs": [],
      "source": [
        "df_copy = df.copy()\n",
        "med = df_copy[numeric_cols].median()\n",
        "df_copy[numeric_cols] = df_copy[numeric_cols].fillna(med)"
      ]
    },
    {
      "cell_type": "markdown",
      "metadata": {
        "id": "QRcmrhxfgtUz"
      },
      "source": [
        "We can also impute the non-numeric columns with their most frequent values. Then we can use it to fill in the missing."
      ]
    },
    {
      "cell_type": "code",
      "execution_count": null,
      "metadata": {
        "id": "58fOIKWtgtUz"
      },
      "outputs": [],
      "source": [
        "most_freq = df_copy[non_numeric_cols].describe().loc['top']\n",
        "most_freq\n",
        "df_copy[non_numeric_cols] = df_copy[non_numeric_cols].fillna(most_freq)"
      ]
    },
    {
      "cell_type": "markdown",
      "metadata": {
        "id": "YcO9oWBygtUz"
      },
      "source": [
        "## Irregular data (outliers)\n",
        "Outliers are data that is distinct from other observations. They could bias our data analysis results, providing a misleading representation of the data. Outliers could be real outliers or mistakes."
      ]
    },
    {
      "cell_type": "markdown",
      "metadata": {
        "id": "dk7AD-sogtUz"
      },
      "source": [
        "#### Method #1: descriptive statistics\n",
        "First, let’s look at kurtosis. Kurtosis is a statistical measure of ‘tailedness’. The higher kurtosis is often linked to the greater extremity of deviations (or outliers) in the data. So this is a single statistic to detect potential outliers. Among the first 10 columns, we can see that life_sq has the highest kurtosis value. But note that the high value of kurtosis doesn’t guarantee outliers. So we’ll investigate this column more soon. For the column life_sq, we can see that the maximum value is 7,478, while the 75th percentile is only 43. The maximum value is an outlier."
      ]
    },
    {
      "cell_type": "code",
      "execution_count": null,
      "metadata": {
        "colab": {
          "base_uri": "https://localhost:8080/",
          "height": 335
        },
        "id": "xW80otaCgtU0",
        "outputId": "732bdf29-9644-4100-a6f3-8d219b5c0d56"
      },
      "outputs": [
        {
          "data": {
            "text/html": [
              "<div>\n",
              "<style scoped>\n",
              "    .dataframe tbody tr th:only-of-type {\n",
              "        vertical-align: middle;\n",
              "    }\n",
              "\n",
              "    .dataframe tbody tr th {\n",
              "        vertical-align: top;\n",
              "    }\n",
              "\n",
              "    .dataframe thead th {\n",
              "        text-align: right;\n",
              "    }\n",
              "</style>\n",
              "<table border=\"1\" class=\"dataframe\">\n",
              "  <thead>\n",
              "    <tr style=\"text-align: right;\">\n",
              "      <th></th>\n",
              "      <th>life_sq</th>\n",
              "    </tr>\n",
              "  </thead>\n",
              "  <tbody>\n",
              "    <tr>\n",
              "      <th>count</th>\n",
              "      <td>23458.000000</td>\n",
              "    </tr>\n",
              "    <tr>\n",
              "      <th>mean</th>\n",
              "      <td>34.143235</td>\n",
              "    </tr>\n",
              "    <tr>\n",
              "      <th>std</th>\n",
              "      <td>52.158376</td>\n",
              "    </tr>\n",
              "    <tr>\n",
              "      <th>min</th>\n",
              "      <td>0.000000</td>\n",
              "    </tr>\n",
              "    <tr>\n",
              "      <th>25%</th>\n",
              "      <td>20.000000</td>\n",
              "    </tr>\n",
              "    <tr>\n",
              "      <th>50%</th>\n",
              "      <td>30.000000</td>\n",
              "    </tr>\n",
              "    <tr>\n",
              "      <th>75%</th>\n",
              "      <td>43.000000</td>\n",
              "    </tr>\n",
              "    <tr>\n",
              "      <th>max</th>\n",
              "      <td>7478.000000</td>\n",
              "    </tr>\n",
              "  </tbody>\n",
              "</table>\n",
              "</div><br><label><b>dtype:</b> float64</label>"
            ],
            "text/plain": [
              "count    23458.000000\n",
              "mean        34.143235\n",
              "std         52.158376\n",
              "min          0.000000\n",
              "25%         20.000000\n",
              "50%         30.000000\n",
              "75%         43.000000\n",
              "max       7478.000000\n",
              "Name: life_sq, dtype: float64"
            ]
          },
          "execution_count": 19,
          "metadata": {},
          "output_type": "execute_result"
        }
      ],
      "source": [
        "df.kurt(numeric_only=True)[:10]\n",
        "df['life_sq'].describe()"
      ]
    },
    {
      "cell_type": "code",
      "execution_count": null,
      "metadata": {
        "colab": {
          "base_uri": "https://localhost:8080/",
          "height": 451
        },
        "id": "wJyvw4fmtIAe",
        "outputId": "325804e2-6166-4ca9-ca99-b1ccfb676c43"
      },
      "outputs": [
        {
          "data": {
            "image/png": "[encoded data removed]",
            "text/plain": [
              "<Figure size 1000x600 with 1 Axes>"
            ]
          },
          "metadata": {},
          "output_type": "display_data"
        }
      ],
      "source": [
        "import matplotlib.pyplot as plt\n",
        "import seaborn as sns\n",
        "import numpy as np\n",
        "\n",
        "# Data based on the description of 'life_sq'\n",
        "data = {\n",
        "    'count': 23458,\n",
        "    'mean': 34.143235,\n",
        "    'std': 52.158376,\n",
        "    'min': 0.0,\n",
        "    '25%': 20.0,\n",
        "    '50%': 30.0,\n",
        "    '75%': 43.0,\n",
        "    'max': 7478.0\n",
        "}\n",
        "\n",
        "# Values for visualization\n",
        "values = [data['min'], data['25%'], data['50%'], data['75%'], data['max']]\n",
        "labels = ['Min', '25%', 'Median (50%)', '75%', 'Max']\n",
        "\n",
        "# Boxplot to show distribution\n",
        "plt.figure(figsize=(10, 6))\n",
        "sns.boxplot(x=np.random.choice(values, size=data['count'], p=[0.1, 0.2, 0.4, 0.2, 0.1]), width=0.3)\n",
        "plt.title('Distribution of life_sq', fontsize=16)\n",
        "plt.xlabel('Values', fontsize=14)\n",
        "plt.ylabel('Frequency (Simulated)', fontsize=14)\n",
        "\n",
        "# Annotate the boxplot with key values\n",
        "for i, value in enumerate(values):\n",
        "    plt.text(value, 0.1, f'{labels[i]}: {value}', horizontalalignment='center', fontsize=12)\n",
        "\n",
        "# Highlighting the extreme max value\n",
        "plt.scatter(data['max'], 0, color='red', label='Outlier (Max Value)', s=100)\n",
        "plt.legend(loc='upper right', fontsize=12)\n",
        "plt.show()\n"
      ]
    },
    {
      "cell_type": "markdown",
      "metadata": {
        "id": "ohBQR4G_gtU0"
      },
      "source": [
        "#### Method #2: histogram & box plot\n",
        "From the histogram, we can see that the data is highly skewed with the possible existence of outliers. But due to the low frequency, we can’t see the exact location of the outliers and the counts. From the histogram, we can see that the data is highly skewed with the possible existence of outliers. But due to the low frequency, we can’t see the exact location of the outliers and the counts. From the box plot, we get a more clear view of the outliers. There is an outlier with a value of over 7,000. In fact, all the dots on the plot are considered outliers by the box plot definition."
      ]
    },
    {
      "cell_type": "code",
      "execution_count": null,
      "metadata": {
        "colab": {
          "base_uri": "https://localhost:8080/",
          "height": 447
        },
        "id": "88bkd9CqgtU0",
        "outputId": "d8448528-5acf-44ae-c45b-d7b8540281e3"
      },
      "outputs": [
        {
          "data": {
            "text/plain": [
              "<Axes: >"
            ]
          },
          "execution_count": 23,
          "metadata": {},
          "output_type": "execute_result"
        },
        {
          "data": {
            "image/png": "[encoded data removed]",
            "text/plain": [
              "<Figure size 640x480 with 1 Axes>"
            ]
          },
          "metadata": {},
          "output_type": "display_data"
        }
      ],
      "source": [
        "df['life_sq'].hist(bins=100)\n",
        "\n",
        "df.boxplot(column=['life_sq'])"
      ]
    },
    {
      "cell_type": "markdown",
      "metadata": {
        "id": "JPd1uakKgtU0"
      },
      "source": [
        "### What to do?\n",
        "While outliers are not hard to see, it is tricky to clean them. It depends on the dataset and the goal of the project.\n",
        "\n",
        "The methods of handling outliers are somewhat similar to missing data. We could drop, replace, or even just keep them."
      ]
    },
    {
      "cell_type": "markdown",
      "metadata": {
        "id": "JhH7OT7VgtU0"
      },
      "source": [
        "## Unnecessary data\n",
        "Those are a lot of hard work for missing data and outliers! Let’s clean something more straightforward in this section: the unnecessary data."
      ]
    },
    {
      "cell_type": "markdown",
      "metadata": {
        "id": "x24SKw9WgtU0"
      },
      "source": [
        "#### Unnecessary type #1: repetitive & uninformative\n",
        "One column can have many observations being the same value. When an extremely high percentage of the column has a repetitive value, we should investigate whether such a column provides valuable information."
      ]
    },
    {
      "cell_type": "markdown",
      "metadata": {
        "id": "DzsmoE4vgtU0"
      },
      "source": [
        "We can generate a list of columns with a high percentage of the same value. For example, we specify below to show columns with over 99.9% rows being the same value."
      ]
    },
    {
      "cell_type": "code",
      "execution_count": null,
      "metadata": {
        "id": "R8__3t3HgtU1"
      },
      "outputs": [],
      "source": [
        "num_rows = len(df)\n",
        "\n",
        "for col in df.columns:\n",
        "    cnts = df[col].value_counts(dropna=False)\n",
        "    top_pct = (cnts/num_rows).iloc[0]\n",
        "\n",
        "    if top_pct > 0.999:\n",
        "        print('{0}: {1:.2f}%'.format(col, top_pct*100))\n",
        "        print(cnts)\n",
        "        print()"
      ]
    },
    {
      "cell_type": "markdown",
      "metadata": {
        "id": "dtBMx2uEgtU1"
      },
      "source": [
        "In fact, there’s no such column in our example dataset.\n",
        "\n",
        "#### What to do?\n",
        "If there is one column with a high percentage of the same value, we should look into it to see if it’s informative. We can drop them when they are not, e.g., when the column has 100% being the same value."
      ]
    },
    {
      "cell_type": "markdown",
      "metadata": {
        "id": "K8b51q8vgtU1"
      },
      "source": [
        "#### Unnecessary type #2: irrelevant\n",
        "Again, the data needs to provide valuable information for the project. If the features are not related to the question we are trying to solve, they are irrelevant.\n",
        "\n",
        "#### How to find out?\n",
        "We need to skim through the features to identify irrelevant ones. For example, a feature recording the temperature in the US wouldn’t provide direct insights into housing prices in Russia.\n",
        "\n",
        "#### What to do?\n",
        "When the features are not serving the project’s goal, we can remove them. You could use the 'drop' method in pandas.\n",
        "\n",
        "#### Unnecessary type #3: duplicates\n",
        "The duplicate data is when copies of the same observation exist. Let’s look at 2 main types of duplicate data and clean them in Python.\n",
        "\n",
        "#### Duplicates type #1: all columns based\n",
        "#### How to find out?\n",
        "This is easy to understand. Such duplicate occurs when all the columns’ values within the observations are the same.\n",
        "\n",
        "We can use the duplicated method to grab the boolean values of whether a row is duplicated, and then use it to filter for duplicated rows from df.\n",
        "\n",
        "We can use the drop_duplicates method. But this will return the same DataFrame since there weren’t any duplicates."
      ]
    },
    {
      "cell_type": "code",
      "execution_count": null,
      "metadata": {
        "id": "sh8EYo3ZgtU1"
      },
      "outputs": [],
      "source": [
        "df[df.duplicated()]\n",
        "df.drop_duplicates()"
      ]
    },
    {
      "cell_type": "markdown",
      "metadata": {
        "id": "Lg7gkT9CgtU1"
      },
      "source": [
        "## Inconsistent data"
      ]
    },
    {
      "cell_type": "markdown",
      "metadata": {
        "id": "kWxFkzA-gtU3"
      },
      "source": [
        "#### Inconsistent type #1: capitalization\n",
        "Inconsistent use of upper and lower cases in categorical values is typical. We need to clean it since Python is case-sensitive."
      ]
    },
    {
      "cell_type": "code",
      "execution_count": null,
      "metadata": {
        "id": "Z3ZIhTIqgtU3"
      },
      "outputs": [],
      "source": [
        "df['sub_area'].value_counts(dropna=False)\n",
        "df['sub_area_lower'] = df['sub_area'].str.lower()\n",
        "df['sub_area_lower'].value_counts(dropna=False)"
      ]
    },
    {
      "cell_type": "markdown",
      "metadata": {
        "id": "fDleZgOhgtU3"
      },
      "source": [
        "#### Inconsistent type #2: data types\n",
        "Another standardization we often need to look at is the data types.\n",
        "\n",
        "We could also print out one column to take a look. Let’s try timestamp."
      ]
    },
    {
      "cell_type": "code",
      "execution_count": null,
      "metadata": {
        "id": "S4LD_J4egtU3"
      },
      "outputs": [],
      "source": [
        "df['timestamp']"
      ]
    },
    {
      "cell_type": "markdown",
      "metadata": {
        "id": "sLg4HCs6gtU3"
      },
      "source": [
        "timestamp has dtype of object while it records dates."
      ]
    },
    {
      "cell_type": "code",
      "execution_count": null,
      "metadata": {
        "id": "HhCTTSe2gtU3"
      },
      "outputs": [],
      "source": [
        "df['timestamp_dt'] = pd.to_datetime(df['timestamp'], format='%Y-%m-%d')\n",
        "df['year'] = df['timestamp_dt'].dt.year\n",
        "df['month'] = df['timestamp_dt'].dt.month\n",
        "df['weekday'] = df['timestamp_dt'].dt.weekday\n",
        "\n",
        "df[['timestamp_dt', 'year', 'month', 'weekday']].head()"
      ]
    },
    {
      "cell_type": "markdown",
      "metadata": {
        "id": "7nagfQOogtU3"
      },
      "source": [
        "#### Inconsistent type #3: typos of categorical values\n",
        "A categorical column takes on a limited and usually fixed number of possible values. Sometimes it shows other values due to reasons like typos.\n",
        "\n",
        "Let’s see an example. Within the code below:\n",
        "\n",
        "* We generate a new DataFrame, df_city_ex\n",
        "There is only one column that stores the city names. There are misspellings. For example, ‘torontoo’ and ‘tronto’ both refer to the city of ‘toronto’.\n",
        "* The variable cities stores the 4 correct names of ‘toronto’, ‘vancouver’, ‘montreal’, and ‘calgary’.\n",
        "* To identify typos, we use fuzzy logic matches. We use edit_distance from nltk, which measures the number of operations (e.g., substitution, insertion, deletion) needed to change from one string into another string.\n",
        "* We calculate the distance between the actual values and the correct values."
      ]
    },
    {
      "cell_type": "code",
      "execution_count": null,
      "metadata": {
        "id": "xtl97fEggtU4"
      },
      "outputs": [],
      "source": [
        "df_city_ex = pd.DataFrame(data={'city': ['torontoo', 'toronto', 'tronto', 'vancouver', 'vancover', 'vancouvr', 'montreal', 'calgary']})\n",
        "\n",
        "cities = ['toronto', 'vancouver', 'montreal', 'calgary']\n",
        "from nltk.metrics import edit_distance\n",
        "for city in cities:\n",
        "    df_city_ex[f'city_distance_{city}'] = df_city_ex['city'].map(lambda x: edit_distance(x, city))\n",
        "\n",
        "df_city_ex"
      ]
    },
    {
      "cell_type": "markdown",
      "metadata": {
        "id": "7khfob9mgtU4"
      },
      "source": [
        "#### What to do?\n",
        "We can set criteria to convert these typos to the correct values. For example, the below code sets all the values within 2 characters distance from ‘toronto’/’vancouver’ to be ‘toronto’/’vancouver’."
      ]
    },
    {
      "cell_type": "code",
      "execution_count": null,
      "metadata": {
        "id": "j4jqOj3PgtU4"
      },
      "outputs": [],
      "source": [
        "msk = df_city_ex['city_distance_toronto'] <= 2\n",
        "df_city_ex.loc[msk, 'city'] = 'toronto'\n",
        "\n",
        "msk = df_city_ex['city_distance_vancouver'] <= 2\n",
        "df_city_ex.loc[msk, 'city'] = 'vancouver'\n",
        "\n",
        "df_city_ex"
      ]
    }
  ],
  "metadata": {
    "colab": {
      "provenance": []
    },
    "kernelspec": {
      "display_name": "Python 3",
      "language": "python",
      "name": "python3"
    },
    "language_info": {
      "codemirror_mode": {
        "name": "ipython",
        "version": 3
      },
      "file_extension": ".py",
      "mimetype": "text/x-python",
      "name": "python",
      "nbconvert_exporter": "python",
      "pygments_lexer": "ipython3",
      "version": "3.7.4"
    }
  },
  "nbformat": 4,
  "nbformat_minor": 0
}
